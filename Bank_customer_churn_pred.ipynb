{
 "cells": [
  {
   "cell_type": "markdown",
   "id": "9e3618b5",
   "metadata": {},
   "source": [
    "# Proyecto: Predicción de Abandono de Clientes Bancarios"
   ]
  },
  {
   "cell_type": "markdown",
   "id": "4f6d0ddf17d76341",
   "metadata": {},
   "source": [
    "## Introducción a los Datasets\n",
    "\n",
    "### Dataset 1: Predicción de Abandono de Clientes Bancarios (Bank Customer Churn)\n",
    "\n",
    "**Descripción General:**\n",
    "Este conjunto de datos contiene información sobre clientes de un banco y su comportamiento, con el objetivo de predecir si un cliente abandonará o no el banco (*churn*). La variable objetivo es `Exited`, que indica si el cliente dejó de ser parte del banco (`1`) o si permaneció (`0`).\n",
    "\n",
    "**Características del Dataset (Variables relevantes):**\n",
    "- `CustomerId`: Identificador único del cliente.\n",
    "- `Surname`: Apellido del cliente.\n",
    "- `CreditScore`: Puntuación de crédito del cliente.\n",
    "- `Geography`: País de residencia (ej. Francia, España, Alemania).\n",
    "- `Gender`: Género del cliente.\n",
    "- `Age`: Edad del cliente.\n",
    "- `Tenure`: Años de permanencia en el banco.\n",
    "- `Balance`: Saldo promedio del cliente.\n",
    "- `NumOfProducts`: Número de productos que el cliente tiene con el banco.\n",
    "- `HasCrCard`: Indica si tiene tarjeta de crédito.\n",
    "- `IsActiveMember`: Indica si el cliente es considerado activo.\n",
    "- `EstimatedSalary`: Salario estimado del cliente.\n",
    "- `Exited`: (Variable objetivo) `1` si el cliente se fue del banco, `0` si sigue.\n",
    "\n",
    "**Objetivo del Proyecto:**\n",
    "Analizar los factores que influyen en la decisión de un cliente de abandonar el banco. A partir de esto, se puede crear un modelo predictivo que ayude al banco a identificar clientes en riesgo y tomar medidas preventivas de retención.\n",
    "\n"
   ]
  },
  {
   "cell_type": "markdown",
   "id": "6e3a5995",
   "metadata": {},
   "source": [
    "## 1. Información General\n",
    "- **Nombre del Proyecto**: \n",
    "- **Nombres del Equipo y Roles**:\n",
    "  - Integrante 1 - Rol\n",
    "  - Integrante 2 - Rol\n",
    "- **Resumen del Proyecto**:\n",
    "Este proyecto busca identificar los factores que influyen en el abandono de clientes usando modelos de analítica de negocios y aprendizaje automático."
   ]
  },
  {
   "cell_type": "markdown",
   "id": "c1735f3b",
   "metadata": {},
   "source": [
    "## 2. Perspectiva del Negocio\n",
    "- Contexto del problema y por qué es relevante en el entorno empresarial.\n",
    "- Impacto potencial de las predicciones.\n",
    "- Aplicaciones reales en la toma de decisiones."
   ]
  },
  {
   "cell_type": "markdown",
   "id": "a37728bb",
   "metadata": {},
   "source": [
    "## 3. Análisis Exploratorio de Datos\n",
    "- Cargar dataset.\n",
    "- Revisar estructura de datos.\n",
    "- Estadísticas descriptivas.\n",
    "- Visualización inicial."
   ]
  },
  {
   "cell_type": "code",
   "execution_count": 2,
   "id": "ff162987",
   "metadata": {},
   "outputs": [],
   "source": [
    "# Cargar librerías necesarias\n",
    "import pandas as pd\n",
    "import numpy as np\n",
    "import matplotlib.pyplot as plt\n",
    "import seaborn as sns\n",
    "import sklearn\n",
    "import scipy\n",
    "from sklearn.metrics import classification_report,accuracy_score"
   ]
  },
  {
   "cell_type": "code",
   "execution_count": 3,
   "id": "4d1709d3",
   "metadata": {},
   "outputs": [
    {
     "data": {
      "text/html": [
       "<div>\n",
       "<style scoped>\n",
       "    .dataframe tbody tr th:only-of-type {\n",
       "        vertical-align: middle;\n",
       "    }\n",
       "\n",
       "    .dataframe tbody tr th {\n",
       "        vertical-align: top;\n",
       "    }\n",
       "\n",
       "    .dataframe thead th {\n",
       "        text-align: right;\n",
       "    }\n",
       "</style>\n",
       "<table border=\"1\" class=\"dataframe\">\n",
       "  <thead>\n",
       "    <tr style=\"text-align: right;\">\n",
       "      <th></th>\n",
       "      <th>RowNumber</th>\n",
       "      <th>CustomerId</th>\n",
       "      <th>Surname</th>\n",
       "      <th>CreditScore</th>\n",
       "      <th>Geography</th>\n",
       "      <th>Gender</th>\n",
       "      <th>Age</th>\n",
       "      <th>Tenure</th>\n",
       "      <th>Balance</th>\n",
       "      <th>NumOfProducts</th>\n",
       "      <th>HasCrCard</th>\n",
       "      <th>IsActiveMember</th>\n",
       "      <th>EstimatedSalary</th>\n",
       "      <th>Exited</th>\n",
       "    </tr>\n",
       "  </thead>\n",
       "  <tbody>\n",
       "    <tr>\n",
       "      <th>0</th>\n",
       "      <td>1</td>\n",
       "      <td>15634602</td>\n",
       "      <td>Hargrave</td>\n",
       "      <td>619</td>\n",
       "      <td>France</td>\n",
       "      <td>Female</td>\n",
       "      <td>42</td>\n",
       "      <td>2</td>\n",
       "      <td>0.00</td>\n",
       "      <td>1</td>\n",
       "      <td>1</td>\n",
       "      <td>1</td>\n",
       "      <td>101348.88</td>\n",
       "      <td>1</td>\n",
       "    </tr>\n",
       "    <tr>\n",
       "      <th>1</th>\n",
       "      <td>2</td>\n",
       "      <td>15647311</td>\n",
       "      <td>Hill</td>\n",
       "      <td>608</td>\n",
       "      <td>Spain</td>\n",
       "      <td>Female</td>\n",
       "      <td>41</td>\n",
       "      <td>1</td>\n",
       "      <td>83807.86</td>\n",
       "      <td>1</td>\n",
       "      <td>0</td>\n",
       "      <td>1</td>\n",
       "      <td>112542.58</td>\n",
       "      <td>0</td>\n",
       "    </tr>\n",
       "    <tr>\n",
       "      <th>2</th>\n",
       "      <td>3</td>\n",
       "      <td>15619304</td>\n",
       "      <td>Onio</td>\n",
       "      <td>502</td>\n",
       "      <td>France</td>\n",
       "      <td>Female</td>\n",
       "      <td>42</td>\n",
       "      <td>8</td>\n",
       "      <td>159660.80</td>\n",
       "      <td>3</td>\n",
       "      <td>1</td>\n",
       "      <td>0</td>\n",
       "      <td>113931.57</td>\n",
       "      <td>1</td>\n",
       "    </tr>\n",
       "    <tr>\n",
       "      <th>3</th>\n",
       "      <td>4</td>\n",
       "      <td>15701354</td>\n",
       "      <td>Boni</td>\n",
       "      <td>699</td>\n",
       "      <td>France</td>\n",
       "      <td>Female</td>\n",
       "      <td>39</td>\n",
       "      <td>1</td>\n",
       "      <td>0.00</td>\n",
       "      <td>2</td>\n",
       "      <td>0</td>\n",
       "      <td>0</td>\n",
       "      <td>93826.63</td>\n",
       "      <td>0</td>\n",
       "    </tr>\n",
       "    <tr>\n",
       "      <th>4</th>\n",
       "      <td>5</td>\n",
       "      <td>15737888</td>\n",
       "      <td>Mitchell</td>\n",
       "      <td>850</td>\n",
       "      <td>Spain</td>\n",
       "      <td>Female</td>\n",
       "      <td>43</td>\n",
       "      <td>2</td>\n",
       "      <td>125510.82</td>\n",
       "      <td>1</td>\n",
       "      <td>1</td>\n",
       "      <td>1</td>\n",
       "      <td>79084.10</td>\n",
       "      <td>0</td>\n",
       "    </tr>\n",
       "  </tbody>\n",
       "</table>\n",
       "</div>"
      ],
      "text/plain": [
       "   RowNumber  CustomerId   Surname  CreditScore Geography  Gender  Age  \\\n",
       "0          1    15634602  Hargrave          619    France  Female   42   \n",
       "1          2    15647311      Hill          608     Spain  Female   41   \n",
       "2          3    15619304      Onio          502    France  Female   42   \n",
       "3          4    15701354      Boni          699    France  Female   39   \n",
       "4          5    15737888  Mitchell          850     Spain  Female   43   \n",
       "\n",
       "   Tenure    Balance  NumOfProducts  HasCrCard  IsActiveMember  \\\n",
       "0       2       0.00              1          1               1   \n",
       "1       1   83807.86              1          0               1   \n",
       "2       8  159660.80              3          1               0   \n",
       "3       1       0.00              2          0               0   \n",
       "4       2  125510.82              1          1               1   \n",
       "\n",
       "   EstimatedSalary  Exited  \n",
       "0        101348.88       1  \n",
       "1        112542.58       0  \n",
       "2        113931.57       1  \n",
       "3         93826.63       0  \n",
       "4         79084.10       0  "
      ]
     },
     "execution_count": 3,
     "metadata": {},
     "output_type": "execute_result"
    }
   ],
   "source": [
    "# Cargar datos\n",
    "df = pd.read_csv('Churn_Modelling.csv')\n",
    "df.head()"
   ]
  },
  {
   "cell_type": "code",
   "execution_count": 4,
   "id": "b1543b6e",
   "metadata": {},
   "outputs": [
    {
     "data": {
      "text/html": [
       "<div>\n",
       "<style scoped>\n",
       "    .dataframe tbody tr th:only-of-type {\n",
       "        vertical-align: middle;\n",
       "    }\n",
       "\n",
       "    .dataframe tbody tr th {\n",
       "        vertical-align: top;\n",
       "    }\n",
       "\n",
       "    .dataframe thead th {\n",
       "        text-align: right;\n",
       "    }\n",
       "</style>\n",
       "<table border=\"1\" class=\"dataframe\">\n",
       "  <thead>\n",
       "    <tr style=\"text-align: right;\">\n",
       "      <th></th>\n",
       "      <th>Columnas</th>\n",
       "      <th>Filas</th>\n",
       "    </tr>\n",
       "  </thead>\n",
       "  <tbody>\n",
       "    <tr>\n",
       "      <th>0</th>\n",
       "      <td>14</td>\n",
       "      <td>10000</td>\n",
       "    </tr>\n",
       "  </tbody>\n",
       "</table>\n",
       "</div>"
      ],
      "text/plain": [
       "   Columnas  Filas\n",
       "0        14  10000"
      ]
     },
     "execution_count": 4,
     "metadata": {},
     "output_type": "execute_result"
    }
   ],
   "source": [
    "#Dimension de los datos\n",
    "dimensiones = pd.DataFrame({\n",
    "    'Columnas': df.shape[1],\n",
    "    'Filas': [df.shape[0]],\n",
    "})\n",
    "dimensiones\n"
   ]
  },
  {
   "cell_type": "code",
   "execution_count": 5,
   "id": "dbafb843",
   "metadata": {},
   "outputs": [
    {
     "data": {
      "text/html": [
       "<div>\n",
       "<style scoped>\n",
       "    .dataframe tbody tr th:only-of-type {\n",
       "        vertical-align: middle;\n",
       "    }\n",
       "\n",
       "    .dataframe tbody tr th {\n",
       "        vertical-align: top;\n",
       "    }\n",
       "\n",
       "    .dataframe thead th {\n",
       "        text-align: right;\n",
       "    }\n",
       "</style>\n",
       "<table border=\"1\" class=\"dataframe\">\n",
       "  <thead>\n",
       "    <tr style=\"text-align: right;\">\n",
       "      <th></th>\n",
       "      <th>Column</th>\n",
       "      <th>Null Values</th>\n",
       "      <th>Data Type</th>\n",
       "    </tr>\n",
       "  </thead>\n",
       "  <tbody>\n",
       "    <tr>\n",
       "      <th>0</th>\n",
       "      <td>RowNumber</td>\n",
       "      <td>0</td>\n",
       "      <td>int64</td>\n",
       "    </tr>\n",
       "    <tr>\n",
       "      <th>1</th>\n",
       "      <td>CustomerId</td>\n",
       "      <td>0</td>\n",
       "      <td>int64</td>\n",
       "    </tr>\n",
       "    <tr>\n",
       "      <th>2</th>\n",
       "      <td>Surname</td>\n",
       "      <td>0</td>\n",
       "      <td>object</td>\n",
       "    </tr>\n",
       "    <tr>\n",
       "      <th>3</th>\n",
       "      <td>CreditScore</td>\n",
       "      <td>0</td>\n",
       "      <td>int64</td>\n",
       "    </tr>\n",
       "    <tr>\n",
       "      <th>4</th>\n",
       "      <td>Geography</td>\n",
       "      <td>0</td>\n",
       "      <td>object</td>\n",
       "    </tr>\n",
       "    <tr>\n",
       "      <th>5</th>\n",
       "      <td>Gender</td>\n",
       "      <td>0</td>\n",
       "      <td>object</td>\n",
       "    </tr>\n",
       "    <tr>\n",
       "      <th>6</th>\n",
       "      <td>Age</td>\n",
       "      <td>0</td>\n",
       "      <td>int64</td>\n",
       "    </tr>\n",
       "    <tr>\n",
       "      <th>7</th>\n",
       "      <td>Tenure</td>\n",
       "      <td>0</td>\n",
       "      <td>int64</td>\n",
       "    </tr>\n",
       "    <tr>\n",
       "      <th>8</th>\n",
       "      <td>Balance</td>\n",
       "      <td>0</td>\n",
       "      <td>float64</td>\n",
       "    </tr>\n",
       "    <tr>\n",
       "      <th>9</th>\n",
       "      <td>NumOfProducts</td>\n",
       "      <td>0</td>\n",
       "      <td>int64</td>\n",
       "    </tr>\n",
       "    <tr>\n",
       "      <th>10</th>\n",
       "      <td>HasCrCard</td>\n",
       "      <td>0</td>\n",
       "      <td>int64</td>\n",
       "    </tr>\n",
       "    <tr>\n",
       "      <th>11</th>\n",
       "      <td>IsActiveMember</td>\n",
       "      <td>0</td>\n",
       "      <td>int64</td>\n",
       "    </tr>\n",
       "    <tr>\n",
       "      <th>12</th>\n",
       "      <td>EstimatedSalary</td>\n",
       "      <td>0</td>\n",
       "      <td>float64</td>\n",
       "    </tr>\n",
       "    <tr>\n",
       "      <th>13</th>\n",
       "      <td>Exited</td>\n",
       "      <td>0</td>\n",
       "      <td>int64</td>\n",
       "    </tr>\n",
       "  </tbody>\n",
       "</table>\n",
       "</div>"
      ],
      "text/plain": [
       "             Column  Null Values Data Type\n",
       "0         RowNumber            0     int64\n",
       "1        CustomerId            0     int64\n",
       "2           Surname            0    object\n",
       "3       CreditScore            0     int64\n",
       "4         Geography            0    object\n",
       "5            Gender            0    object\n",
       "6               Age            0     int64\n",
       "7            Tenure            0     int64\n",
       "8           Balance            0   float64\n",
       "9     NumOfProducts            0     int64\n",
       "10        HasCrCard            0     int64\n",
       "11   IsActiveMember            0     int64\n",
       "12  EstimatedSalary            0   float64\n",
       "13           Exited            0     int64"
      ]
     },
     "execution_count": 5,
     "metadata": {},
     "output_type": "execute_result"
    }
   ],
   "source": [
    "# Verificar si hay valores nulos\n",
    "null_values = df.isnull().sum()\n",
    "# Verificar tipos de datos\n",
    "data_types = df.dtypes\n",
    "\n",
    "# Combinar resultados en un DataFrame para visualización como tabla\n",
    "data_types = pd.DataFrame({\n",
    "    'Column': df.columns,\n",
    "    'Null Values': null_values.values,\n",
    "    'Data Type': data_types.values\n",
    "})\n",
    "\n",
    "# Mostrar la tabla\n",
    "data_types"
   ]
  },
  {
   "cell_type": "code",
   "execution_count": 7,
   "id": "5f478e22",
   "metadata": {},
   "outputs": [
    {
     "data": {
      "text/html": [
       "<style type=\"text/css\">\n",
       "</style>\n",
       "<table id=\"T_baee4\">\n",
       "  <thead>\n",
       "    <tr>\n",
       "      <th class=\"blank level0\" >&nbsp;</th>\n",
       "      <th id=\"T_baee4_level0_col0\" class=\"col_heading level0 col0\" >RowNumber</th>\n",
       "      <th id=\"T_baee4_level0_col1\" class=\"col_heading level0 col1\" >CustomerId</th>\n",
       "      <th id=\"T_baee4_level0_col2\" class=\"col_heading level0 col2\" >CreditScore</th>\n",
       "      <th id=\"T_baee4_level0_col3\" class=\"col_heading level0 col3\" >Age</th>\n",
       "      <th id=\"T_baee4_level0_col4\" class=\"col_heading level0 col4\" >Tenure</th>\n",
       "      <th id=\"T_baee4_level0_col5\" class=\"col_heading level0 col5\" >Balance</th>\n",
       "      <th id=\"T_baee4_level0_col6\" class=\"col_heading level0 col6\" >NumOfProducts</th>\n",
       "      <th id=\"T_baee4_level0_col7\" class=\"col_heading level0 col7\" >HasCrCard</th>\n",
       "      <th id=\"T_baee4_level0_col8\" class=\"col_heading level0 col8\" >IsActiveMember</th>\n",
       "      <th id=\"T_baee4_level0_col9\" class=\"col_heading level0 col9\" >EstimatedSalary</th>\n",
       "      <th id=\"T_baee4_level0_col10\" class=\"col_heading level0 col10\" >Exited</th>\n",
       "    </tr>\n",
       "  </thead>\n",
       "  <tbody>\n",
       "    <tr>\n",
       "      <th id=\"T_baee4_level0_row0\" class=\"row_heading level0 row0\" >count</th>\n",
       "      <td id=\"T_baee4_row0_col0\" class=\"data row0 col0\" >10000.00</td>\n",
       "      <td id=\"T_baee4_row0_col1\" class=\"data row0 col1\" >10000.00</td>\n",
       "      <td id=\"T_baee4_row0_col2\" class=\"data row0 col2\" >10000.00</td>\n",
       "      <td id=\"T_baee4_row0_col3\" class=\"data row0 col3\" >10000.00</td>\n",
       "      <td id=\"T_baee4_row0_col4\" class=\"data row0 col4\" >10000.00</td>\n",
       "      <td id=\"T_baee4_row0_col5\" class=\"data row0 col5\" >10000.00</td>\n",
       "      <td id=\"T_baee4_row0_col6\" class=\"data row0 col6\" >10000.00</td>\n",
       "      <td id=\"T_baee4_row0_col7\" class=\"data row0 col7\" >10000.00</td>\n",
       "      <td id=\"T_baee4_row0_col8\" class=\"data row0 col8\" >10000.00</td>\n",
       "      <td id=\"T_baee4_row0_col9\" class=\"data row0 col9\" >10000.00</td>\n",
       "      <td id=\"T_baee4_row0_col10\" class=\"data row0 col10\" >10000.00</td>\n",
       "    </tr>\n",
       "    <tr>\n",
       "      <th id=\"T_baee4_level0_row1\" class=\"row_heading level0 row1\" >mean</th>\n",
       "      <td id=\"T_baee4_row1_col0\" class=\"data row1 col0\" >5000.50</td>\n",
       "      <td id=\"T_baee4_row1_col1\" class=\"data row1 col1\" >15690940.57</td>\n",
       "      <td id=\"T_baee4_row1_col2\" class=\"data row1 col2\" >650.53</td>\n",
       "      <td id=\"T_baee4_row1_col3\" class=\"data row1 col3\" >38.92</td>\n",
       "      <td id=\"T_baee4_row1_col4\" class=\"data row1 col4\" >5.01</td>\n",
       "      <td id=\"T_baee4_row1_col5\" class=\"data row1 col5\" >76485.89</td>\n",
       "      <td id=\"T_baee4_row1_col6\" class=\"data row1 col6\" >1.53</td>\n",
       "      <td id=\"T_baee4_row1_col7\" class=\"data row1 col7\" >0.71</td>\n",
       "      <td id=\"T_baee4_row1_col8\" class=\"data row1 col8\" >0.52</td>\n",
       "      <td id=\"T_baee4_row1_col9\" class=\"data row1 col9\" >100090.24</td>\n",
       "      <td id=\"T_baee4_row1_col10\" class=\"data row1 col10\" >0.20</td>\n",
       "    </tr>\n",
       "    <tr>\n",
       "      <th id=\"T_baee4_level0_row2\" class=\"row_heading level0 row2\" >std</th>\n",
       "      <td id=\"T_baee4_row2_col0\" class=\"data row2 col0\" >2886.90</td>\n",
       "      <td id=\"T_baee4_row2_col1\" class=\"data row2 col1\" >71936.19</td>\n",
       "      <td id=\"T_baee4_row2_col2\" class=\"data row2 col2\" >96.65</td>\n",
       "      <td id=\"T_baee4_row2_col3\" class=\"data row2 col3\" >10.49</td>\n",
       "      <td id=\"T_baee4_row2_col4\" class=\"data row2 col4\" >2.89</td>\n",
       "      <td id=\"T_baee4_row2_col5\" class=\"data row2 col5\" >62397.41</td>\n",
       "      <td id=\"T_baee4_row2_col6\" class=\"data row2 col6\" >0.58</td>\n",
       "      <td id=\"T_baee4_row2_col7\" class=\"data row2 col7\" >0.46</td>\n",
       "      <td id=\"T_baee4_row2_col8\" class=\"data row2 col8\" >0.50</td>\n",
       "      <td id=\"T_baee4_row2_col9\" class=\"data row2 col9\" >57510.49</td>\n",
       "      <td id=\"T_baee4_row2_col10\" class=\"data row2 col10\" >0.40</td>\n",
       "    </tr>\n",
       "    <tr>\n",
       "      <th id=\"T_baee4_level0_row3\" class=\"row_heading level0 row3\" >min</th>\n",
       "      <td id=\"T_baee4_row3_col0\" class=\"data row3 col0\" >1.00</td>\n",
       "      <td id=\"T_baee4_row3_col1\" class=\"data row3 col1\" >15565701.00</td>\n",
       "      <td id=\"T_baee4_row3_col2\" class=\"data row3 col2\" >350.00</td>\n",
       "      <td id=\"T_baee4_row3_col3\" class=\"data row3 col3\" >18.00</td>\n",
       "      <td id=\"T_baee4_row3_col4\" class=\"data row3 col4\" >0.00</td>\n",
       "      <td id=\"T_baee4_row3_col5\" class=\"data row3 col5\" >0.00</td>\n",
       "      <td id=\"T_baee4_row3_col6\" class=\"data row3 col6\" >1.00</td>\n",
       "      <td id=\"T_baee4_row3_col7\" class=\"data row3 col7\" >0.00</td>\n",
       "      <td id=\"T_baee4_row3_col8\" class=\"data row3 col8\" >0.00</td>\n",
       "      <td id=\"T_baee4_row3_col9\" class=\"data row3 col9\" >11.58</td>\n",
       "      <td id=\"T_baee4_row3_col10\" class=\"data row3 col10\" >0.00</td>\n",
       "    </tr>\n",
       "    <tr>\n",
       "      <th id=\"T_baee4_level0_row4\" class=\"row_heading level0 row4\" >25%</th>\n",
       "      <td id=\"T_baee4_row4_col0\" class=\"data row4 col0\" >2500.75</td>\n",
       "      <td id=\"T_baee4_row4_col1\" class=\"data row4 col1\" >15628528.25</td>\n",
       "      <td id=\"T_baee4_row4_col2\" class=\"data row4 col2\" >584.00</td>\n",
       "      <td id=\"T_baee4_row4_col3\" class=\"data row4 col3\" >32.00</td>\n",
       "      <td id=\"T_baee4_row4_col4\" class=\"data row4 col4\" >3.00</td>\n",
       "      <td id=\"T_baee4_row4_col5\" class=\"data row4 col5\" >0.00</td>\n",
       "      <td id=\"T_baee4_row4_col6\" class=\"data row4 col6\" >1.00</td>\n",
       "      <td id=\"T_baee4_row4_col7\" class=\"data row4 col7\" >0.00</td>\n",
       "      <td id=\"T_baee4_row4_col8\" class=\"data row4 col8\" >0.00</td>\n",
       "      <td id=\"T_baee4_row4_col9\" class=\"data row4 col9\" >51002.11</td>\n",
       "      <td id=\"T_baee4_row4_col10\" class=\"data row4 col10\" >0.00</td>\n",
       "    </tr>\n",
       "    <tr>\n",
       "      <th id=\"T_baee4_level0_row5\" class=\"row_heading level0 row5\" >50%</th>\n",
       "      <td id=\"T_baee4_row5_col0\" class=\"data row5 col0\" >5000.50</td>\n",
       "      <td id=\"T_baee4_row5_col1\" class=\"data row5 col1\" >15690738.00</td>\n",
       "      <td id=\"T_baee4_row5_col2\" class=\"data row5 col2\" >652.00</td>\n",
       "      <td id=\"T_baee4_row5_col3\" class=\"data row5 col3\" >37.00</td>\n",
       "      <td id=\"T_baee4_row5_col4\" class=\"data row5 col4\" >5.00</td>\n",
       "      <td id=\"T_baee4_row5_col5\" class=\"data row5 col5\" >97198.54</td>\n",
       "      <td id=\"T_baee4_row5_col6\" class=\"data row5 col6\" >1.00</td>\n",
       "      <td id=\"T_baee4_row5_col7\" class=\"data row5 col7\" >1.00</td>\n",
       "      <td id=\"T_baee4_row5_col8\" class=\"data row5 col8\" >1.00</td>\n",
       "      <td id=\"T_baee4_row5_col9\" class=\"data row5 col9\" >100193.91</td>\n",
       "      <td id=\"T_baee4_row5_col10\" class=\"data row5 col10\" >0.00</td>\n",
       "    </tr>\n",
       "    <tr>\n",
       "      <th id=\"T_baee4_level0_row6\" class=\"row_heading level0 row6\" >75%</th>\n",
       "      <td id=\"T_baee4_row6_col0\" class=\"data row6 col0\" >7500.25</td>\n",
       "      <td id=\"T_baee4_row6_col1\" class=\"data row6 col1\" >15753233.75</td>\n",
       "      <td id=\"T_baee4_row6_col2\" class=\"data row6 col2\" >718.00</td>\n",
       "      <td id=\"T_baee4_row6_col3\" class=\"data row6 col3\" >44.00</td>\n",
       "      <td id=\"T_baee4_row6_col4\" class=\"data row6 col4\" >7.00</td>\n",
       "      <td id=\"T_baee4_row6_col5\" class=\"data row6 col5\" >127644.24</td>\n",
       "      <td id=\"T_baee4_row6_col6\" class=\"data row6 col6\" >2.00</td>\n",
       "      <td id=\"T_baee4_row6_col7\" class=\"data row6 col7\" >1.00</td>\n",
       "      <td id=\"T_baee4_row6_col8\" class=\"data row6 col8\" >1.00</td>\n",
       "      <td id=\"T_baee4_row6_col9\" class=\"data row6 col9\" >149388.25</td>\n",
       "      <td id=\"T_baee4_row6_col10\" class=\"data row6 col10\" >0.00</td>\n",
       "    </tr>\n",
       "    <tr>\n",
       "      <th id=\"T_baee4_level0_row7\" class=\"row_heading level0 row7\" >max</th>\n",
       "      <td id=\"T_baee4_row7_col0\" class=\"data row7 col0\" >10000.00</td>\n",
       "      <td id=\"T_baee4_row7_col1\" class=\"data row7 col1\" >15815690.00</td>\n",
       "      <td id=\"T_baee4_row7_col2\" class=\"data row7 col2\" >850.00</td>\n",
       "      <td id=\"T_baee4_row7_col3\" class=\"data row7 col3\" >92.00</td>\n",
       "      <td id=\"T_baee4_row7_col4\" class=\"data row7 col4\" >10.00</td>\n",
       "      <td id=\"T_baee4_row7_col5\" class=\"data row7 col5\" >250898.09</td>\n",
       "      <td id=\"T_baee4_row7_col6\" class=\"data row7 col6\" >4.00</td>\n",
       "      <td id=\"T_baee4_row7_col7\" class=\"data row7 col7\" >1.00</td>\n",
       "      <td id=\"T_baee4_row7_col8\" class=\"data row7 col8\" >1.00</td>\n",
       "      <td id=\"T_baee4_row7_col9\" class=\"data row7 col9\" >199992.48</td>\n",
       "      <td id=\"T_baee4_row7_col10\" class=\"data row7 col10\" >1.00</td>\n",
       "    </tr>\n",
       "  </tbody>\n",
       "</table>\n"
      ],
      "text/plain": [
       "<pandas.io.formats.style.Styler at 0x269cabcb320>"
      ]
     },
     "execution_count": 7,
     "metadata": {},
     "output_type": "execute_result"
    }
   ],
   "source": [
    "# Estadísticas generales del dataset\n",
    "stats = df.describe().style.format(precision=2)\n",
    "stats"
   ]
  },
  {
   "cell_type": "code",
   "execution_count": 8,
   "id": "971a1dd6",
   "metadata": {},
   "outputs": [
    {
     "data": {
      "image/png": "[encoded data removed]",
      "text/plain": [
       "<Figure size 800x600 with 1 Axes>"
      ]
     },
     "metadata": {},
     "output_type": "display_data"
    }
   ],
   "source": [
    "# Graficar la cantidad de Abandonos \n",
    "plt.figure(figsize=(8, 6))\n",
    "ax = sns.countplot(data=df, x='Exited', legend=False, palette='Paired', hue=\"Exited\")\n",
    "ax.bar_label(ax.containers[1])\n",
    "ax.bar_label(ax.containers[0])\n",
    "plt.title('Distribución de Abandonos')\n",
    "plt.xlabel('Abandono')\n",
    "plt.ylabel('Cantidad')\n",
    "plt.xticks([0, 1], ['No Abandono', 'Abandono'])\n",
    "plt.show()\n"
   ]
  },
  {
   "cell_type": "code",
   "execution_count": 10,
   "id": "2b08735b",
   "metadata": {},
   "outputs": [
    {
     "data": {
      "image/png": "[encoded data removed]",
      "text/plain": [
       "<Figure size 800x600 with 1 Axes>"
      ]
     },
     "metadata": {},
     "output_type": "display_data"
    }
   ],
   "source": [
    "#Graficar los abandonos por género\n",
    "plt.figure(figsize=(8, 6))\n",
    "sns.countplot(x='Gender', hue='Exited', data=df, palette='Paired')\n",
    "plt.title('Abandono Por Género')\n",
    "plt.xlabel('Género')\n",
    "plt.show()"
   ]
  },
  {
   "cell_type": "code",
   "execution_count": 11,
   "id": "c4fb81bf",
   "metadata": {},
   "outputs": [
    {
     "data": {
      "image/png": "[encoded data removed]",
      "text/plain": [
       "<Figure size 1200x600 with 1 Axes>"
      ]
     },
     "metadata": {},
     "output_type": "display_data"
    }
   ],
   "source": [
    "#Gráfico de Abandonos por ubicación geográfica\n",
    "plt.figure(figsize=(12, 6))\n",
    "sns.countplot(x='Geography', hue='Exited', data=df, palette='Paired')\n",
    "plt.title('Abandono Por Ubicación Geográfica')\n",
    "plt.xlabel('Ubicación Geográfica')\n",
    "plt.xticks(rotation=45)\n",
    "plt.show()"
   ]
  },
  {
   "cell_type": "code",
   "execution_count": 14,
   "id": "cfe407fc",
   "metadata": {},
   "outputs": [
    {
     "data": {
      "image/png": "[encoded data removed]",
      "text/plain": [
       "<Figure size 1200x600 with 1 Axes>"
      ]
     },
     "metadata": {},
     "output_type": "display_data"
    }
   ],
   "source": [
    "#Gráfico de Abandonos por grupos de edad\n",
    "df['AgeGroup'] = pd.cut(df['Age'], bins=range(0, 101, 10), right=False, labels=[f'{i}-{i+9}' for i in range(0, 100, 10)])\n",
    "plt.figure(figsize=(12, 6))\n",
    "sns.countplot(x='AgeGroup', hue='Exited', data=df, palette='Paired')\n",
    "plt.title('Abandono Por Edad')\n",
    "plt.xlabel('Edad')\n",
    "plt.xticks(rotation=45)\n",
    "plt.show()\n"
   ]
  },
  {
   "cell_type": "markdown",
   "id": "63bcbcd6",
   "metadata": {},
   "source": [
    "## 4. Preprocesamiento y Limpieza de Datos\n",
    "- Identificación y manejo de valores nulos o duplicados.\n",
    "- Transformaciones necesarias.\n",
    "- Codificación y escalamiento si aplica."
   ]
  },
  {
   "cell_type": "code",
   "execution_count": null,
   "id": "b654b547",
   "metadata": {},
   "outputs": [],
   "source": [
    "# Preprocesamiento del dataset\n",
    "a"
   ]
  },
  {
   "cell_type": "markdown",
   "id": "edc8247d",
   "metadata": {},
   "source": [
    "## 5. Modelado Predictivo\n",
    "- División de datos de entrenamiento y prueba.\n",
    "- Selección de modelos.\n",
    "- Entrenamiento y validación."
   ]
  },
  {
   "cell_type": "code",
   "execution_count": null,
   "id": "6e62b5e9",
   "metadata": {},
   "outputs": [],
   "source": [
    "# Entrenamiento de modelos\n",
    "a"
   ]
  },
  {
   "cell_type": "markdown",
   "id": "a9f460e2",
   "metadata": {},
   "source": [
    "## 6. Evaluación del Modelo\n",
    "- Métricas de evaluación.\n",
    "- Interpretación de resultados.\n",
    "- Ajustes necesarios."
   ]
  },
  {
   "cell_type": "code",
   "execution_count": null,
   "id": "a28dc0db",
   "metadata": {},
   "outputs": [],
   "source": [
    "# Evaluación del modelo\n",
    "a"
   ]
  },
  {
   "cell_type": "markdown",
   "id": "606524f9",
   "metadata": {},
   "source": [
    "## 7. Visualización de Resultados\n",
    "- Crear visualizaciones relevantes.\n",
    "- Mostrar resultados clave."
   ]
  },
  {
   "cell_type": "code",
   "execution_count": null,
   "id": "a13cd365",
   "metadata": {},
   "outputs": [],
   "source": [
    "# Visualizaciones finales\n",
    "a"
   ]
  },
  {
   "cell_type": "markdown",
   "id": "c1430018",
   "metadata": {},
   "source": [
    "## 8. Conclusiones y Recomendaciones\n",
    "- Conclusiones generales basadas en el análisis.\n",
    "- Recomendaciones prácticas para el negocio."
   ]
  },
  {
   "cell_type": "markdown",
   "id": "4d273f52",
   "metadata": {},
   "source": [
    "## 9. Documentación Técnica\n",
    "- Explicación de cómo ejecutar el proyecto paso a paso.\n",
    "- Herramientas utilizadas con breve descripción y enlaces.\n",
    "- Repositorio con código/documentación si aplica."
   ]
  },
  {
   "cell_type": "markdown",
   "id": "fd77fde1",
   "metadata": {},
   "source": [
    "## 10. Recursos Adicionales\n",
    "- Enlaces útiles.\n",
    "- Lecturas recomendadas.\n",
    "- Otros materiales de apoyo."
   ]
  }
 ],
 "metadata": {
  "kernelspec": {
   "display_name": "Python 3",
   "language": "python",
   "name": "python3"
  },
  "language_info": {
   "codemirror_mode": {
    "name": "ipython",
    "version": 3
   },
   "file_extension": ".py",
   "mimetype": "text/x-python",
   "name": "python",
   "nbconvert_exporter": "python",
   "pygments_lexer": "ipython3",
   "version": "3.12.9"
  }
 },
 "nbformat": 4,
 "nbformat_minor": 5
}
