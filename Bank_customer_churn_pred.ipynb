{
 "cells": [
  {
   "cell_type": "markdown",
   "id": "9e3618b5",
   "metadata": {},
   "source": [
    "# Proyecto: Predicción de Abandono de Clientes Bancarios"
   ]
  },
  {
   "cell_type": "markdown",
   "id": "4f6d0ddf17d76341",
   "metadata": {},
   "source": [
    "## Introducción a los Datasets\n",
    "\n",
    "### Dataset 1: Predicción de Abandono de Clientes Bancarios (Bank Customer Churn)\n",
    "\n",
    "**Descripción General:**\n",
    "Este conjunto de datos contiene información sobre clientes de un banco y su comportamiento, con el objetivo de predecir si un cliente abandonará o no el banco (*churn*). La variable objetivo es `Exited`, que indica si el cliente dejó de ser parte del banco (`1`) o si permaneció (`0`).\n",
    "\n",
    "**Características del Dataset (Variables relevantes):**\n",
    "- `CustomerId`: Identificador único del cliente.\n",
    "- `Surname`: Apellido del cliente.\n",
    "- `CreditScore`: Puntuación de crédito del cliente.\n",
    "- `Geography`: País de residencia (ej. Francia, España, Alemania).\n",
    "- `Gender`: Género del cliente.\n",
    "- `Age`: Edad del cliente.\n",
    "- `Tenure`: Años de permanencia en el banco.\n",
    "- `Balance`: Saldo promedio del cliente.\n",
    "- `NumOfProducts`: Número de productos que el cliente tiene con el banco.\n",
    "- `HasCrCard`: Indica si tiene tarjeta de crédito.\n",
    "- `IsActiveMember`: Indica si el cliente es considerado activo.\n",
    "- `EstimatedSalary`: Salario estimado del cliente.\n",
    "- `Exited`: (Variable objetivo) `1` si el cliente se fue del banco, `0` si sigue.\n",
    "\n",
    "**Objetivo del Proyecto:**\n",
    "Analizar los factores que influyen en la decisión de un cliente de abandonar el banco. A partir de esto, se puede crear un modelo predictivo que ayude al banco a identificar clientes en riesgo y tomar medidas preventivas de retención.\n",
    "\n"
   ]
  },
  {
   "cell_type": "markdown",
   "id": "6e3a5995",
   "metadata": {},
   "source": [
    "## 1. Información General\n",
    "- **Nombre del Proyecto**: \n",
    "- **Nombres del Equipo y Roles**:\n",
    "  - Integrante 1 - Rol\n",
    "  - Integrante 2 - Rol\n",
    "- **Resumen del Proyecto**:\n",
    "Este proyecto busca identificar los factores que influyen en el abandono de clientes usando modelos de analítica de negocios y aprendizaje automático."
   ]
  },
  {
   "cell_type": "markdown",
   "id": "c1735f3b",
   "metadata": {},
   "source": [
    "## 2. Perspectiva del Negocio\n",
    "- Contexto del problema y por qué es relevante en el entorno empresarial.\n",
    "- Impacto potencial de las predicciones.\n",
    "- Aplicaciones reales en la toma de decisiones."
   ]
  },
  {
   "cell_type": "markdown",
   "id": "a37728bb",
   "metadata": {},
   "source": [
    "## 3. Análisis Exploratorio de Datos\n",
    "- Cargar dataset.\n",
    "- Revisar estructura de datos.\n",
    "- Estadísticas descriptivas.\n",
    "- Visualización inicial."
   ]
  },
  {
   "cell_type": "code",
   "execution_count": 1,
   "id": "ff162987",
   "metadata": {},
   "outputs": [],
   "source": [
    "# Cargar librerías necesarias\n",
    "import pandas as pd\n",
    "import numpy as np\n",
    "import matplotlib.pyplot as plt\n",
    "import seaborn as sns\n",
    "import sklearn\n",
    "import scipy\n",
    "from sklearn.metrics import classification_report,accuracy_score"
   ]
  },
  {
   "cell_type": "code",
   "execution_count": 3,
   "id": "4d1709d3",
   "metadata": {},
   "outputs": [],
   "source": [
    "# Cargar datos\n",
    "df = pd.read_csv(\"Churn_Modelling.csv\")"
   ]
  },
  {
   "cell_type": "code",
   "execution_count": 4,
   "id": "12e8684e",
   "metadata": {},
   "outputs": [
    {
     "name": "stdout",
     "output_type": "stream",
     "text": [
      "\n",
      "Valores Faltantes:\n",
      "RowNumber          0\n",
      "CustomerId         0\n",
      "Surname            0\n",
      "CreditScore        0\n",
      "Geography          0\n",
      "Gender             0\n",
      "Age                0\n",
      "Tenure             0\n",
      "Balance            0\n",
      "NumOfProducts      0\n",
      "HasCrCard          0\n",
      "IsActiveMember     0\n",
      "EstimatedSalary    0\n",
      "Exited             0\n",
      "dtype: int64\n"
     ]
    }
   ],
   "source": [
    "print(\"\\nValores Faltantes:\")\n",
    "print(df.isnull().sum())"
   ]
  },
  {
   "cell_type": "code",
   "execution_count": 5,
   "id": "d9092561",
   "metadata": {},
   "outputs": [
    {
     "name": "stdout",
     "output_type": "stream",
     "text": [
      "\n",
      "Summary Statistics:\n",
      "         RowNumber    CustomerId   CreditScore           Age        Tenure  \\\n",
      "count  10000.00000  1.000000e+04  10000.000000  10000.000000  10000.000000   \n",
      "mean    5000.50000  1.569094e+07    650.528800     38.921800      5.012800   \n",
      "std     2886.89568  7.193619e+04     96.653299     10.487806      2.892174   \n",
      "min        1.00000  1.556570e+07    350.000000     18.000000      0.000000   \n",
      "25%     2500.75000  1.562853e+07    584.000000     32.000000      3.000000   \n",
      "50%     5000.50000  1.569074e+07    652.000000     37.000000      5.000000   \n",
      "75%     7500.25000  1.575323e+07    718.000000     44.000000      7.000000   \n",
      "max    10000.00000  1.581569e+07    850.000000     92.000000     10.000000   \n",
      "\n",
      "             Balance  NumOfProducts    HasCrCard  IsActiveMember  \\\n",
      "count   10000.000000   10000.000000  10000.00000    10000.000000   \n",
      "mean    76485.889288       1.530200      0.70550        0.515100   \n",
      "std     62397.405202       0.581654      0.45584        0.499797   \n",
      "min         0.000000       1.000000      0.00000        0.000000   \n",
      "25%         0.000000       1.000000      0.00000        0.000000   \n",
      "50%     97198.540000       1.000000      1.00000        1.000000   \n",
      "75%    127644.240000       2.000000      1.00000        1.000000   \n",
      "max    250898.090000       4.000000      1.00000        1.000000   \n",
      "\n",
      "       EstimatedSalary        Exited  \n",
      "count     10000.000000  10000.000000  \n",
      "mean     100090.239881      0.203700  \n",
      "std       57510.492818      0.402769  \n",
      "min          11.580000      0.000000  \n",
      "25%       51002.110000      0.000000  \n",
      "50%      100193.915000      0.000000  \n",
      "75%      149388.247500      0.000000  \n",
      "max      199992.480000      1.000000  \n"
     ]
    }
   ],
   "source": [
    "print(\"\\nSummary Statistics:\")\n",
    "print(df.describe())"
   ]
  },
  {
   "cell_type": "markdown",
   "id": "63bcbcd6",
   "metadata": {},
   "source": [
    "## 4. Preprocesamiento y Limpieza de Datos\n",
    "- Identificación y manejo de valores nulos o duplicados.\n",
    "- Transformaciones necesarias.\n",
    "- Codificación y escalamiento si aplica."
   ]
  },
  {
   "cell_type": "code",
   "execution_count": null,
   "id": "b654b547",
   "metadata": {},
   "outputs": [],
   "source": [
    "# Preprocesamiento del dataset\n",
    "a"
   ]
  },
  {
   "cell_type": "markdown",
   "id": "edc8247d",
   "metadata": {},
   "source": [
    "## 5. Modelado Predictivo\n",
    "- División de datos de entrenamiento y prueba.\n",
    "- Selección de modelos.\n",
    "- Entrenamiento y validación."
   ]
  },
  {
   "cell_type": "code",
   "execution_count": null,
   "id": "6e62b5e9",
   "metadata": {},
   "outputs": [],
   "source": [
    "# Entrenamiento de modelos\n",
    "a"
   ]
  },
  {
   "cell_type": "markdown",
   "id": "a9f460e2",
   "metadata": {},
   "source": [
    "## 6. Evaluación del Modelo\n",
    "- Métricas de evaluación.\n",
    "- Interpretación de resultados.\n",
    "- Ajustes necesarios."
   ]
  },
  {
   "cell_type": "code",
   "execution_count": null,
   "id": "a28dc0db",
   "metadata": {},
   "outputs": [],
   "source": [
    "# Evaluación del modelo\n",
    "a"
   ]
  },
  {
   "cell_type": "markdown",
   "id": "606524f9",
   "metadata": {},
   "source": [
    "## 7. Visualización de Resultados\n",
    "- Crear visualizaciones relevantes.\n",
    "- Mostrar resultados clave."
   ]
  },
  {
   "cell_type": "code",
   "execution_count": null,
   "id": "a13cd365",
   "metadata": {},
   "outputs": [],
   "source": [
    "# Visualizaciones finales\n",
    "a"
   ]
  },
  {
   "cell_type": "markdown",
   "id": "c1430018",
   "metadata": {},
   "source": [
    "## 8. Conclusiones y Recomendaciones\n",
    "- Conclusiones generales basadas en el análisis.\n",
    "- Recomendaciones prácticas para el negocio."
   ]
  },
  {
   "cell_type": "markdown",
   "id": "4d273f52",
   "metadata": {},
   "source": [
    "## 9. Documentación Técnica\n",
    "- Explicación de cómo ejecutar el proyecto paso a paso.\n",
    "- Herramientas utilizadas con breve descripción y enlaces.\n",
    "- Repositorio con código/documentación si aplica."
   ]
  },
  {
   "cell_type": "markdown",
   "id": "fd77fde1",
   "metadata": {},
   "source": [
    "## 10. Recursos Adicionales\n",
    "- Enlaces útiles.\n",
    "- Lecturas recomendadas.\n",
    "- Otros materiales de apoyo."
   ]
  }
 ],
 "metadata": {
  "kernelspec": {
   "display_name": "Python 3",
   "language": "python",
   "name": "python3"
  },
  "language_info": {
   "codemirror_mode": {
    "name": "ipython",
    "version": 3
   },
   "file_extension": ".py",
   "mimetype": "text/x-python",
   "name": "python",
   "nbconvert_exporter": "python",
   "pygments_lexer": "ipython3",
   "version": "3.11.4"
  }
 },
 "nbformat": 4,
 "nbformat_minor": 5
}
