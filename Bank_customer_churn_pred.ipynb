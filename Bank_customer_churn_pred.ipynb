{
 "cells": [
  {
   "cell_type": "markdown",
   "id": "9e3618b5",
   "metadata": {},
   "source": [
    "# Proyecto: Predicción de Abandono de Clientes Bancarios"
   ]
  },
  {
   "cell_type": "markdown",
   "id": "4f6d0ddf17d76341",
   "metadata": {},
   "source": [
    "## Introducción a los Datasets\n",
    "\n",
    "### Dataset 1: Predicción de Abandono de Clientes Bancarios (Bank Customer Churn)\n",
    "\n",
    "**Descripción General:**\n",
    "Este conjunto de datos contiene información sobre clientes de un banco y su comportamiento, con el objetivo de predecir si un cliente abandonará o no el banco (*churn*). La variable objetivo es `Exited`, que indica si el cliente dejó de ser parte del banco (`1`) o si permaneció (`0`).\n",
    "\n",
    "**Características del Dataset (Variables relevantes):**\n",
    "- `CustomerId`: Identificador único del cliente.\n",
    "- `Surname`: Apellido del cliente.\n",
    "- `CreditScore`: Puntuación de crédito del cliente.\n",
    "- `Geography`: País de residencia (ej. Francia, España, Alemania).\n",
    "- `Gender`: Género del cliente.\n",
    "- `Age`: Edad del cliente.\n",
    "- `Tenure`: Años de permanencia en el banco.\n",
    "- `Balance`: Saldo promedio del cliente.\n",
    "- `NumOfProducts`: Número de productos que el cliente tiene con el banco.\n",
    "- `HasCrCard`: Indica si tiene tarjeta de crédito.\n",
    "- `IsActiveMember`: Indica si el cliente es considerado activo.\n",
    "- `EstimatedSalary`: Salario estimado del cliente.\n",
    "- `Exited`: (Variable objetivo) `1` si el cliente se fue del banco, `0` si sigue.\n",
    "\n",
    "**Objetivo del Proyecto:**\n",
    "Analizar los factores que influyen en la decisión de un cliente de abandonar el banco. A partir de esto, se puede crear un modelo predictivo que ayude al banco a identificar clientes en riesgo y tomar medidas preventivas de retención.\n",
    "\n"
   ]
  },
  {
   "cell_type": "markdown",
   "id": "6e3a5995",
   "metadata": {},
   "source": [
    "## 1. Información General\n",
    "- **Nombre del Proyecto**: \n",
    "- **Nombres del Equipo y Roles**:\n",
    "  - José Villarreal - Lider Tecnico\n",
    "  - Yohana banda - Lider BI\n",
    "  - Justin Ureña - Analista\n",
    "  - José Lara - Analista\n",
    "  - Gabriela Vivas- Analista\n",
    "- **Resumen del Proyecto**:\n",
    "Este proyecto busca identificar los factores que influyen en el abandono de clientes usando modelos de analítica de negocios y aprendizaje automático."
   ]
  },
  {
   "cell_type": "markdown",
   "id": "c1735f3b",
   "metadata": {},
   "source": [
    "## 2. Perspectiva del Negocio\n",
    "- Contexto del problema y por qué es relevante en el entorno empresarial.\n",
    "- Impacto potencial de las predicciones.\n",
    "- Aplicaciones reales en la toma de decisiones."
   ]
  },
  {
   "cell_type": "markdown",
   "id": "a37728bb",
   "metadata": {},
   "source": [
    "## 3. Análisis Exploratorio de Datos\n",
    "- Cargar dataset.\n",
    "- Revisar estructura de datos.\n",
    "- Estadísticas descriptivas.\n",
    "- Visualización inicial."
   ]
  },
  {
   "cell_type": "code",
   "execution_count": null,
   "id": "ff162987",
   "metadata": {},
   "outputs": [],
   "source": [
    "# Cargar librerías necesarias\n",
    "import pandas as pd\n",
    "import numpy as np\n",
    "import matplotlib.pyplot as plt\n",
    "import seaborn as sns\n",
    "import sklearn\n",
    "import scipy\n",
    "from sklearn.metrics import classification_report,accuracy_score"
   ]
  },
  {
   "cell_type": "code",
   "execution_count": null,
   "id": "4d1709d3",
   "metadata": {},
   "outputs": [],
   "source": [
    "#Cargar datos\n",
    "ChurnDf=pd.read_csv('Churn_Modelling.csv')\n",
    "ChurnDf.info()"
   ]
  },
  {
   "cell_type": "markdown",
   "id": "63bcbcd6",
   "metadata": {},
   "source": [
    "## 4. Preprocesamiento y Limpieza de Datos\n",
    "- Identificación y manejo de valores nulos o duplicados.\n",
    "- Transformaciones necesarias.\n",
    "- Codificación y escalamiento si aplica."
   ]
  },
  {
   "cell_type": "code",
   "execution_count": null,
   "id": "b654b547",
   "metadata": {},
   "outputs": [],
   "source": [
    "# Preprocesamiento del dataset\n",
    "a"
   ]
  },
  {
   "cell_type": "markdown",
   "id": "edc8247d",
   "metadata": {},
   "source": [
    "## 5. Modelado Predictivo\n",
    "- División de datos de entrenamiento y prueba.\n",
    "- Selección de modelos.\n",
    "- Entrenamiento y validación."
   ]
  },
  {
   "cell_type": "code",
   "execution_count": null,
   "id": "6e62b5e9",
   "metadata": {},
   "outputs": [],
   "source": [
    "# Entrenamiento de modelos\n",
    "a"
   ]
  },
  {
   "cell_type": "markdown",
   "id": "a9f460e2",
   "metadata": {},
   "source": [
    "## 6. Evaluación del Modelo\n",
    "- Métricas de evaluación.\n",
    "- Interpretación de resultados.\n",
    "- Ajustes necesarios."
   ]
  },
  {
   "cell_type": "code",
   "execution_count": null,
   "id": "a28dc0db",
   "metadata": {},
   "outputs": [],
   "source": [
    "# Evaluación del modelo\n",
    "a"
   ]
  },
  {
   "cell_type": "markdown",
   "id": "606524f9",
   "metadata": {},
   "source": [
    "## 7. Visualización de Resultados\n",
    "- Crear visualizaciones relevantes.\n",
    "- Mostrar resultados clave."
   ]
  },
  {
   "cell_type": "code",
   "execution_count": null,
   "id": "a13cd365",
   "metadata": {},
   "outputs": [],
   "source": [
    "# Visualizaciones finales\n",
    "a"
   ]
  },
  {
   "cell_type": "markdown",
   "id": "c1430018",
   "metadata": {},
   "source": [
    "## 8. Conclusiones y Recomendaciones\n",
    "- Conclusiones generales basadas en el análisis.\n",
    "- Recomendaciones prácticas para el negocio."
   ]
  },
  {
   "cell_type": "markdown",
   "id": "4d273f52",
   "metadata": {},
   "source": [
    "## 9. Documentación Técnica\n",
    "- Explicación de cómo ejecutar el proyecto paso a paso.\n",
    "- Herramientas utilizadas con breve descripción y enlaces.\n",
    "- Repositorio con código/documentación si aplica."
   ]
  },
  {
   "cell_type": "markdown",
   "id": "fd77fde1",
   "metadata": {},
   "source": [
    "## 10. Recursos Adicionales\n",
    "- Enlaces útiles.\n",
    "- Lecturas recomendadas.\n",
    "- Otros materiales de apoyo."
   ]
  }
 ],
 "metadata": {
  "kernelspec": {
   "display_name": "Python 3 (ipykernel)",
   "language": "python",
   "name": "python3"
  }
 },
 "nbformat": 4,
 "nbformat_minor": 5
}
